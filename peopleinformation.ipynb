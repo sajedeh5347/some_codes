{
 "cells": [
  {
   "cell_type": "code",
   "execution_count": null,
   "metadata": {},
   "outputs": [],
   "source": [
    "def peopleinformation(i):\n",
    "            person={}\n",
    "            person[\"Full name\"]=input('Full name: ')\n",
    "            try:\n",
    "                person[\"age\"]=int(input('Age (please write with numder): '))\n",
    "        \n",
    "                try:\n",
    "                    person[\"monthly income\"]=int(input('Monthly income (please write with numder): '))\n",
    "           \n",
    "        \n",
    "                    try:\n",
    "                        person[\"monthly expenditures\"]=int(input('Monthly expenditures (please write with numder) : '))\n",
    "                        \n",
    "                        ###check for Matching income and expenditures\n",
    "                    \n",
    "                        if person[\"monthly expenditures\"]>person[\"monthly income\"]:\n",
    "                            saving=0\n",
    "                        elif person[\"monthly expenditures\"]==person[\"monthly income\"]:\n",
    "                            saving=1\n",
    "                        else:\n",
    "                            saving=person[\"monthly expenditures\"]-person[\"monthly income\"]\n",
    "                            \n",
    "                        income_to_saving=person[\"monthly income\"]/saving\n",
    "                 \n",
    "                        person[\"main job\"]=input('Main job : ')\n",
    "    \n",
    "                        try:\n",
    "                            person[\"number of income sources\"]=int(input('Number of income sources (please write with numder): '))\n",
    "        \n",
    "                            person[\"marital status \"]=input('Marital status (Single  or Marid): ').lower()\n",
    "                            \n",
    "            \n",
    "                            ###check for marital status typed true\n",
    "            \n",
    "                            if  person[\"marital status \"]!='single' and person[\"marital status \"]!='marid':\n",
    "                                 marital_status=0\n",
    "                            else:\n",
    "                                 marital_status=1\n",
    "                            marital_status_true=1/marital_status\n",
    "    \n",
    "                            try:\n",
    "                                person[\"number of family members\"]=int(input('Number of family member (please write with numder): '))\n",
    "                            \n",
    "                                person[\"education\"]=input('Education (Under diploma \\ Diploma \\ Associat \\ Bachelor \\ Master \\ PHD) : ').lower()\n",
    "                        \n",
    "    \n",
    "                                ###check for education typed true\n",
    "                                \n",
    "                                if person[\"education\"]=='under diploma' or person[\"education\"]=='diploma' or person[\"education\"]=='associat' or person[\"education\"]=='bachelor' or person[\"education\"]=='master' or person[\"education\"]=='phd':\n",
    "                                    education=1\n",
    "                                else:\n",
    "                                    education=0\n",
    "                                education_true=1/education\n",
    "                        \n",
    "                                return person\n",
    "                                \n",
    "                                    \n",
    "                            except ValueError:\n",
    "                                print('Invalid value please try again !!!')\n",
    "                            except ZeroDivisionError:\n",
    "                                print('education is not typed correctly !!!')\n",
    "                        except ValueError:\n",
    "                            print('Invalid value please try again !!!')\n",
    "                        except ZeroDivisionError:\n",
    "                            print('marital status is not typed correctly !!!')\n",
    "                \n",
    "                    except ValueError:\n",
    "                        print('Invalid value please try again !!!')\n",
    "                    except ZeroDivisionError:\n",
    "                        print('monthly income cant bigger than monthly expenditures')\n",
    "                except ValueError:\n",
    "                    print('Invalid value please try again !!!')\n",
    "            except ValueError:\n",
    "                print('Invalid value please try again !!!')"
   ]
  }
 ],
 "metadata": {
  "kernelspec": {
   "display_name": "Python 3",
   "language": "python",
   "name": "python3"
  },
  "language_info": {
   "codemirror_mode": {
    "name": "ipython",
    "version": 3
   },
   "file_extension": ".py",
   "mimetype": "text/x-python",
   "name": "python",
   "nbconvert_exporter": "python",
   "pygments_lexer": "ipython3",
   "version": "3.8.5"
  },
  "nbTranslate": {
   "displayLangs": [
    "en"
   ],
   "hotkey": "alt-t",
   "langInMainMenu": true,
   "sourceLang": "en",
   "targetLang": "fr",
   "useGoogleTranslate": true
  },
  "toc": {
   "base_numbering": 1,
   "nav_menu": {},
   "number_sections": true,
   "sideBar": true,
   "skip_h1_title": false,
   "title_cell": "Table of Contents",
   "title_sidebar": "Contents",
   "toc_cell": false,
   "toc_position": {},
   "toc_section_display": true,
   "toc_window_display": false
  },
  "varInspector": {
   "cols": {
    "lenName": 16,
    "lenType": 16,
    "lenVar": 40
   },
   "kernels_config": {
    "python": {
     "delete_cmd_postfix": "",
     "delete_cmd_prefix": "del ",
     "library": "var_list.py",
     "varRefreshCmd": "print(var_dic_list())"
    },
    "r": {
     "delete_cmd_postfix": ") ",
     "delete_cmd_prefix": "rm(",
     "library": "var_list.r",
     "varRefreshCmd": "cat(var_dic_list()) "
    }
   },
   "types_to_exclude": [
    "module",
    "function",
    "builtin_function_or_method",
    "instance",
    "_Feature"
   ],
   "window_display": false
  }
 },
 "nbformat": 4,
 "nbformat_minor": 4
}
