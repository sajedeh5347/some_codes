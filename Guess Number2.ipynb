{
 "cells": [
  {
   "cell_type": "code",
   "execution_count": 11,
   "metadata": {},
   "outputs": [],
   "source": [
    "import numpy as np\n",
    "import random"
   ]
  },
  {
   "cell_type": "code",
   "execution_count": 12,
   "metadata": {},
   "outputs": [
    {
     "name": "stdout",
     "output_type": "stream",
     "text": [
      "please Choose a number between zero and ninety nine in your mind\n",
      "The number guessed by the program = 18\n",
      "please choose the option:\n",
      "                If the guessed number is larger,please type k.\n",
      "                If the guessed number is smaller,please type b.\n",
      "                If the guessed number was correctplease type d.\n",
      "                B\n",
      "The number guessed by the program = 43\n",
      "please choose the option:\n",
      "                If the guessed number is larger,please type k.\n",
      "                If the guessed number is smaller,please type b.\n",
      "                If the guessed number was correctplease type d.\n",
      "                b\n",
      "The number guessed by the program = 65\n",
      "please choose the option:\n",
      "                If the guessed number is larger,please type k.\n",
      "                If the guessed number is smaller,please type b.\n",
      "                If the guessed number was correctplease type d.\n",
      "                b\n",
      "The number guessed by the program = 82\n",
      "please choose the option:\n",
      "                If the guessed number is larger,please type k.\n",
      "                If the guessed number is smaller,please type b.\n",
      "                If the guessed number was correctplease type d.\n",
      "                K\n",
      "The number guessed by the program = 75\n",
      "please choose the option:\n",
      "                If the guessed number is larger,please type k.\n",
      "                If the guessed number is smaller,please type b.\n",
      "                If the guessed number was correctplease type d.\n",
      "                k\n",
      "The number guessed by the program = 67\n",
      "please choose the option:\n",
      "                If the guessed number is larger,please type k.\n",
      "                If the guessed number is smaller,please type b.\n",
      "                If the guessed number was correctplease type d.\n",
      "                b\n",
      "The number guessed by the program = 71\n",
      "please choose the option:\n",
      "                If the guessed number is larger,please type k.\n",
      "                If the guessed number is smaller,please type b.\n",
      "                If the guessed number was correctplease type d.\n",
      "                K\n",
      "The number guessed by the program = 71\n",
      "please choose the option:\n",
      "                If the guessed number is larger,please type k.\n",
      "                If the guessed number is smaller,please type b.\n",
      "                If the guessed number was correctplease type d.\n",
      "                k\n",
      "The number guessed by the program = 71\n",
      "please choose the option:\n",
      "                If the guessed number is larger,please type k.\n",
      "                If the guessed number is smaller,please type b.\n",
      "                If the guessed number was correctplease type d.\n",
      "                k\n",
      "The number guessed by the program = 68\n",
      "please choose the option:\n",
      "                If the guessed number is larger,please type k.\n",
      "                If the guessed number is smaller,please type b.\n",
      "                If the guessed number was correctplease type d.\n",
      "                b\n",
      "The number guessed by the program = 68\n",
      "please choose the option:\n",
      "                If the guessed number is larger,please type k.\n",
      "                If the guessed number is smaller,please type b.\n",
      "                If the guessed number was correctplease type d.\n",
      "                b\n",
      "The number guessed by the program = 69\n",
      "please choose the option:\n",
      "                If the guessed number is larger,please type k.\n",
      "                If the guessed number is smaller,please type b.\n",
      "                If the guessed number was correctplease type d.\n",
      "                b\n",
      "The number guessed by the program = 71\n",
      "please choose the option:\n",
      "                If the guessed number is larger,please type k.\n",
      "                If the guessed number is smaller,please type b.\n",
      "                If the guessed number was correctplease type d.\n",
      "                k\n",
      "The number guessed by the program = 71\n",
      "please choose the option:\n",
      "                If the guessed number is larger,please type k.\n",
      "                If the guessed number is smaller,please type b.\n",
      "                If the guessed number was correctplease type d.\n",
      "                k\n",
      "The number guessed by the program = 70\n",
      "please choose the option:\n",
      "                If the guessed number is larger,please type k.\n",
      "                If the guessed number is smaller,please type b.\n",
      "                If the guessed number was correctplease type d.\n",
      "                D\n",
      "Your desired number is  70\n"
     ]
    }
   ],
   "source": [
    "print(\"please Choose a number between zero and ninety nine in your mind\")\n",
    "GuessTheNumber=False\n",
    "a=1\n",
    "b=99\n",
    "while (GuessTheNumber==False):\n",
    "        Guess_Number= random.randint(a,b)\n",
    "        print(\"The number guessed by the program =\",Guess_Number)\n",
    "        A=input(f'''please choose the option:\n",
    "                If the guessed number is larger,please type k.\n",
    "                If the guessed number is smaller,please type b.\n",
    "                If the guessed number was correctplease type d.\n",
    "                ''').lower()\n",
    "        if A=='k':\n",
    "            b=Guess_Number\n",
    "        elif A=='b':\n",
    "            a=Guess_Number\n",
    "        else:\n",
    "            print(\"Your desired number is \",Guess_Number)\n",
    "            GuessTheNumber=True\n",
    "            "
   ]
  },
  {
   "cell_type": "code",
   "execution_count": null,
   "metadata": {},
   "outputs": [],
   "source": []
  }
 ],
 "metadata": {
  "kernelspec": {
   "display_name": "Python 3",
   "language": "python",
   "name": "python3"
  },
  "language_info": {
   "codemirror_mode": {
    "name": "ipython",
    "version": 3
   },
   "file_extension": ".py",
   "mimetype": "text/x-python",
   "name": "python",
   "nbconvert_exporter": "python",
   "pygments_lexer": "ipython3",
   "version": "3.8.5"
  },
  "nbTranslate": {
   "displayLangs": [
    "en"
   ],
   "hotkey": "alt-t",
   "langInMainMenu": true,
   "sourceLang": "en",
   "targetLang": "fr",
   "useGoogleTranslate": true
  },
  "toc": {
   "base_numbering": 1,
   "nav_menu": {},
   "number_sections": true,
   "sideBar": true,
   "skip_h1_title": false,
   "title_cell": "Table of Contents",
   "title_sidebar": "Contents",
   "toc_cell": false,
   "toc_position": {},
   "toc_section_display": true,
   "toc_window_display": false
  },
  "varInspector": {
   "cols": {
    "lenName": 16,
    "lenType": 16,
    "lenVar": 40
   },
   "kernels_config": {
    "python": {
     "delete_cmd_postfix": "",
     "delete_cmd_prefix": "del ",
     "library": "var_list.py",
     "varRefreshCmd": "print(var_dic_list())"
    },
    "r": {
     "delete_cmd_postfix": ") ",
     "delete_cmd_prefix": "rm(",
     "library": "var_list.r",
     "varRefreshCmd": "cat(var_dic_list()) "
    }
   },
   "types_to_exclude": [
    "module",
    "function",
    "builtin_function_or_method",
    "instance",
    "_Feature"
   ],
   "window_display": false
  }
 },
 "nbformat": 4,
 "nbformat_minor": 4
}
