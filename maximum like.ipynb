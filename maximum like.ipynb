{
 "cells": [
  {
   "cell_type": "code",
   "execution_count": 10,
   "metadata": {},
   "outputs": [
    {
     "name": "stdout",
     "output_type": "stream",
     "text": [
      "type the number of likes of the post(Acceptable numerical range(0,1000)) =zero\n",
      "Invalid value please try again !!!\n",
      "type the number of likes of the post(Acceptable numerical range(0,1000)) =70\n",
      "type the number of likes of the post(Acceptable numerical range(0,1000)) =40\n",
      "type the number of likes of the post(Acceptable numerical range(0,1000)) =300\n",
      "type the number of likes of the post(Acceptable numerical range(0,1000)) =1001\n",
      "The number entered is outside the acceptable range!!!\n",
      "type the number of likes of the post(Acceptable numerical range(0,1000)) =-4\n",
      "The number entered is outside the acceptable range!!!\n",
      "type the number of likes of the post(Acceptable numerical range(0,1000)) =406\n",
      "type the number of likes of the post(Acceptable numerical range(0,1000)) =76\n",
      "type the number of likes of the post(Acceptable numerical range(0,1000)) =401\n",
      "type the number of likes of the post(Acceptable numerical range(0,1000)) =305\n",
      "type the number of likes of the post(Acceptable numerical range(0,1000)) =406\n",
      "type the number of likes of the post(Acceptable numerical range(0,1000)) =99\n",
      "type the number of likes of the post(Acceptable numerical range(0,1000)) =97\n",
      "type the number of likes of the post(Acceptable numerical range(0,1000)) =120\n",
      "type the number of likes of the post(Acceptable numerical range(0,1000)) =406\n",
      "type the number of likes of the post(Acceptable numerical range(0,1000)) =-1\n",
      "406 with 3 repetition\n"
     ]
    }
   ],
   "source": [
    "iter=0\n",
    "S=True\n",
    "maxx=0\n",
    "while(S==True):\n",
    "    try:\n",
    "        number_of_likes=int(input(\"type the number of likes of the post(Acceptable numerical range(0,1000)) =\"))\n",
    "        if 0<=number_of_likes<=1000 and number_of_likes>maxx:\n",
    "            maxx=number_of_likes\n",
    "            iter=1\n",
    "\n",
    "        elif 0<=number_of_likes<=1000 and number_of_likes==maxx:\n",
    "            iter=iter+1\n",
    "            \n",
    "        elif number_of_likes<-1 or number_of_likes>1000:\n",
    "            print(\"The number entered is outside the acceptable range!!!\")\n",
    "        elif  number_of_likes==-1:\n",
    "            if iter>1:\n",
    "                print(maxx,\"with\",iter,\"repetition\")\n",
    "            else:\n",
    "                print(\"Maximum likes=\",maxx)\n",
    "            S=False\n",
    "    except ValueError:\n",
    "                print('Invalid value please try again !!!')"
   ]
  },
  {
   "cell_type": "code",
   "execution_count": null,
   "metadata": {},
   "outputs": [],
   "source": []
  }
 ],
 "metadata": {
  "kernelspec": {
   "display_name": "Python 3",
   "language": "python",
   "name": "python3"
  },
  "language_info": {
   "codemirror_mode": {
    "name": "ipython",
    "version": 3
   },
   "file_extension": ".py",
   "mimetype": "text/x-python",
   "name": "python",
   "nbconvert_exporter": "python",
   "pygments_lexer": "ipython3",
   "version": "3.8.5"
  },
  "nbTranslate": {
   "displayLangs": [
    "en"
   ],
   "hotkey": "alt-t",
   "langInMainMenu": true,
   "sourceLang": "en",
   "targetLang": "fr",
   "useGoogleTranslate": true
  },
  "toc": {
   "base_numbering": 1,
   "nav_menu": {},
   "number_sections": true,
   "sideBar": true,
   "skip_h1_title": false,
   "title_cell": "Table of Contents",
   "title_sidebar": "Contents",
   "toc_cell": false,
   "toc_position": {},
   "toc_section_display": true,
   "toc_window_display": false
  },
  "varInspector": {
   "cols": {
    "lenName": 16,
    "lenType": 16,
    "lenVar": 40
   },
   "kernels_config": {
    "python": {
     "delete_cmd_postfix": "",
     "delete_cmd_prefix": "del ",
     "library": "var_list.py",
     "varRefreshCmd": "print(var_dic_list())"
    },
    "r": {
     "delete_cmd_postfix": ") ",
     "delete_cmd_prefix": "rm(",
     "library": "var_list.r",
     "varRefreshCmd": "cat(var_dic_list()) "
    }
   },
   "types_to_exclude": [
    "module",
    "function",
    "builtin_function_or_method",
    "instance",
    "_Feature"
   ],
   "window_display": false
  }
 },
 "nbformat": 4,
 "nbformat_minor": 4
}
