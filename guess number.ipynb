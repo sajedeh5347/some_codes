{
 "cells": [
  {
   "cell_type": "code",
   "execution_count": 1,
   "metadata": {},
   "outputs": [],
   "source": [
    "import numpy as np"
   ]
  },
  {
   "cell_type": "code",
   "execution_count": 31,
   "metadata": {},
   "outputs": [
    {
     "name": "stdout",
     "output_type": "stream",
     "text": [
      "Guess Number : 50\n",
      "Cold!!!\n",
      "Guess Number : 40\n",
      "Cold!!!\n",
      "Colder!!!\n",
      "Guess Number : 70\n",
      "Cold!!!\n",
      "Warmer!!!\n",
      "Guess Number : 80\n",
      "Warm!!!\n",
      "Warmer!!!\n",
      "Guess Number : 85\n",
      "Warm!!!\n",
      "Colder!!!\n",
      "Guess Number : 81\n",
      "      You won in iteration 6...👏\n",
      "      Your Score : 30\n"
     ]
    }
   ],
   "source": [
    "iter = 1\n",
    "number = np.random.randint(1, 100)\n",
    "while iter != 9:\n",
    "    try:\n",
    "        if iter != 1:\n",
    "            guess_number_old = guess_number\n",
    "\n",
    "        guess_number = int(input(\"Guess Number : \"))\n",
    "\n",
    "        if guess_number < 1 or guess_number > 100:\n",
    "            print(\"Number , Out Of Bounds!!!\")\n",
    "\n",
    "        if abs(guess_number-number) < 10 and guess_number != number:\n",
    "            print(\"Warm!!!\")\n",
    "        elif abs(guess_number-number) > 10 and guess_number != number :\n",
    "            print(\"Cold!!!\")\n",
    "\n",
    "        if iter !=1 and abs(guess_number_old-number) > abs(guess_number-number) and guess_number != number:\n",
    "            print(\"Warmer!!!\")\n",
    "        elif iter !=1 and abs(guess_number_old-number) < abs(guess_number-number) and guess_number != number:\n",
    "            print(\"Colder!!!\")\n",
    "\n",
    "        if guess_number == number:\n",
    "            print(f'''      You won in iteration {iter}...👏''')\n",
    "            if iter==1:\n",
    "                score=100\n",
    "            elif iter==2:\n",
    "                score=95\n",
    "            elif iter==3:\n",
    "                score=85\n",
    "            elif iter==4:\n",
    "                score=70\n",
    "            elif iter==5:\n",
    "                score=50\n",
    "            elif iter==6:\n",
    "                score=30\n",
    "            elif iter==7:\n",
    "                score=20\n",
    "            elif iter==8:\n",
    "                score=10\n",
    "            print(f'''      Your Score : {score}''')\n",
    "            iter=8\n",
    "            \n",
    "        iter += 1\n",
    "        \n",
    "    except ValueError:\n",
    "        print('Invalid value ')"
   ]
  }
 ],
 "metadata": {
  "kernelspec": {
   "display_name": "Python 3",
   "language": "python",
   "name": "python3"
  },
  "language_info": {
   "codemirror_mode": {
    "name": "ipython",
    "version": 3
   },
   "file_extension": ".py",
   "mimetype": "text/x-python",
   "name": "python",
   "nbconvert_exporter": "python",
   "pygments_lexer": "ipython3",
   "version": "3.8.5"
  },
  "nbTranslate": {
   "displayLangs": [
    "en"
   ],
   "hotkey": "alt-t",
   "langInMainMenu": true,
   "sourceLang": "en",
   "targetLang": "fr",
   "useGoogleTranslate": true
  },
  "toc": {
   "base_numbering": 1,
   "nav_menu": {},
   "number_sections": true,
   "sideBar": true,
   "skip_h1_title": false,
   "title_cell": "Table of Contents",
   "title_sidebar": "Contents",
   "toc_cell": false,
   "toc_position": {},
   "toc_section_display": true,
   "toc_window_display": false
  },
  "varInspector": {
   "cols": {
    "lenName": 16,
    "lenType": 16,
    "lenVar": 40
   },
   "kernels_config": {
    "python": {
     "delete_cmd_postfix": "",
     "delete_cmd_prefix": "del ",
     "library": "var_list.py",
     "varRefreshCmd": "print(var_dic_list())"
    },
    "r": {
     "delete_cmd_postfix": ") ",
     "delete_cmd_prefix": "rm(",
     "library": "var_list.r",
     "varRefreshCmd": "cat(var_dic_list()) "
    }
   },
   "types_to_exclude": [
    "module",
    "function",
    "builtin_function_or_method",
    "instance",
    "_Feature"
   ],
   "window_display": false
  }
 },
 "nbformat": 4,
 "nbformat_minor": 4
}
