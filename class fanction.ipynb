{
 "cells": [
  {
   "cell_type": "code",
   "execution_count": 1,
   "metadata": {
    "ExecuteTime": {
     "end_time": "2022-09-29T12:34:27.533849Z",
     "start_time": "2022-09-29T12:34:27.520271Z"
    }
   },
   "outputs": [],
   "source": [
    "import numpy as np"
   ]
  },
  {
   "cell_type": "code",
   "execution_count": null,
   "metadata": {
    "ExecuteTime": {
     "start_time": "2022-09-29T12:30:30.373Z"
    }
   },
   "outputs": [],
   "source": [
    "def f(n):\n",
    "    if n == 0:\n",
    "        return 2\n",
    "    elif n == 1:\n",
    "        return 1\n",
    "    else:\n",
    "        return f(n-1)+f(n-2)"
   ]
  },
  {
   "cell_type": "code",
   "execution_count": 5,
   "metadata": {},
   "outputs": [],
   "source": [
    "a=f(3)"
   ]
  },
  {
   "cell_type": "code",
   "execution_count": 6,
   "metadata": {},
   "outputs": [
    {
     "data": {
      "text/plain": [
       "4"
      ]
     },
     "execution_count": 6,
     "metadata": {},
     "output_type": "execute_result"
    }
   ],
   "source": [
    "a"
   ]
  },
  {
   "cell_type": "code",
   "execution_count": 7,
   "metadata": {},
   "outputs": [
    {
     "data": {
      "text/plain": [
       "7"
      ]
     },
     "execution_count": 7,
     "metadata": {},
     "output_type": "execute_result"
    }
   ],
   "source": [
    "b=f(4)\n",
    "b"
   ]
  },
  {
   "cell_type": "code",
   "execution_count": 8,
   "metadata": {},
   "outputs": [],
   "source": [
    "#this is better\n",
    "def f(n):\n",
    "    if n == 0:\n",
    "        return 2\n",
    "    elif n == 1:\n",
    "        return 1\n",
    "\n",
    "    return f(n-1)+f(n-2)"
   ]
  },
  {
   "cell_type": "code",
   "execution_count": 9,
   "metadata": {},
   "outputs": [],
   "source": [
    "def g(a, b, c):\n",
    "    return(a+b+c)"
   ]
  },
  {
   "cell_type": "code",
   "execution_count": 10,
   "metadata": {},
   "outputs": [],
   "source": [
    "def g(a,b):\n",
    "    return(a+b)"
   ]
  },
  {
   "cell_type": "code",
   "execution_count": 11,
   "metadata": {},
   "outputs": [
    {
     "ename": "TypeError",
     "evalue": "g() takes 2 positional arguments but 3 were given",
     "output_type": "error",
     "traceback": [
      "\u001b[1;31m---------------------------------------------------------------------------\u001b[0m",
      "\u001b[1;31mTypeError\u001b[0m                                 Traceback (most recent call last)",
      "\u001b[1;32m<ipython-input-11-0089644c9fa3>\u001b[0m in \u001b[0;36m<module>\u001b[1;34m\u001b[0m\n\u001b[0;32m      1\u001b[0m \u001b[0ma\u001b[0m\u001b[1;33m=\u001b[0m\u001b[0mg\u001b[0m\u001b[1;33m(\u001b[0m\u001b[1;36m1\u001b[0m\u001b[1;33m,\u001b[0m\u001b[1;36m2\u001b[0m\u001b[1;33m)\u001b[0m\u001b[1;33m\u001b[0m\u001b[1;33m\u001b[0m\u001b[0m\n\u001b[1;32m----> 2\u001b[1;33m \u001b[0mb\u001b[0m\u001b[1;33m=\u001b[0m\u001b[0mg\u001b[0m\u001b[1;33m(\u001b[0m\u001b[1;36m1\u001b[0m\u001b[1;33m,\u001b[0m\u001b[1;36m2\u001b[0m\u001b[1;33m,\u001b[0m\u001b[1;36m3\u001b[0m\u001b[1;33m)\u001b[0m\u001b[1;33m\u001b[0m\u001b[1;33m\u001b[0m\u001b[0m\n\u001b[0m\u001b[0;32m      3\u001b[0m \u001b[0mprint\u001b[0m\u001b[1;33m(\u001b[0m\u001b[0ma\u001b[0m\u001b[1;33m)\u001b[0m\u001b[1;33m\u001b[0m\u001b[1;33m\u001b[0m\u001b[0m\n\u001b[0;32m      4\u001b[0m \u001b[0mprint\u001b[0m\u001b[1;33m(\u001b[0m\u001b[0mb\u001b[0m\u001b[1;33m)\u001b[0m\u001b[1;33m\u001b[0m\u001b[1;33m\u001b[0m\u001b[0m\n",
      "\u001b[1;31mTypeError\u001b[0m: g() takes 2 positional arguments but 3 were given"
     ]
    }
   ],
   "source": [
    "a = g(1, 2)\n",
    "b = g(1, 2, 3)\n",
    "print(a)\n",
    "print(b)"
   ]
  },
  {
   "cell_type": "code",
   "execution_count": 29,
   "metadata": {},
   "outputs": [],
   "source": [
    "# default \n",
    "def g(a, b, c=0):\n",
    "    return(a+b+c)"
   ]
  },
  {
   "cell_type": "code",
   "execution_count": 30,
   "metadata": {},
   "outputs": [
    {
     "data": {
      "text/plain": [
       "3"
      ]
     },
     "execution_count": 30,
     "metadata": {},
     "output_type": "execute_result"
    }
   ],
   "source": [
    "C=g(1,2)\n",
    "C"
   ]
  },
  {
   "cell_type": "code",
   "execution_count": 20,
   "metadata": {},
   "outputs": [],
   "source": [
    "class Clock:\n",
    "    def __init__(self, hour, minite, sec):\n",
    "        self.hour = hour\n",
    "        self.minite = minite\n",
    "        self.sec = sec\n",
    "    # method\n",
    "\n",
    "    def addition_sec(self):\n",
    "        self.sec = self.sec+1\n",
    "        if self.sec == 60:\n",
    "            self.addition_minite()\n",
    "            self.sec = 0\n",
    "\n",
    "    def addition_minite(self):\n",
    "        self.minite = self.minite+1\n",
    "        if self.minite == 60:\n",
    "            self.addition_hour()\n",
    "            self.minite = 0\n",
    "\n",
    "    def addition_hour(self):\n",
    "        self.hour = self.hour+1\n",
    "        if self.hour == 24:\n",
    "            self.hour = 0\n",
    "\n",
    "    def display(self):\n",
    "        if self.hour < 10:\n",
    "            print(\"0{}:\".format(self.hour), end=\"\")\n",
    "        else:\n",
    "            print(\"{}:\".format(self.hour), end=\"\")\n",
    "        if self.minite < 10:\n",
    "            print(\"0{}:\".format(self.minite), end=\"\")\n",
    "        else:\n",
    "            print(\"{}:\".format(self.minite), end=\"\")\n",
    "        if self.sec < 10:\n",
    "            print(\"0{}\".format(self.sec))\n",
    "        else:\n",
    "            print(\"{}\".format(self.sec))"
   ]
  },
  {
   "cell_type": "code",
   "execution_count": 21,
   "metadata": {},
   "outputs": [],
   "source": [
    "A=Clock(12,10,20)"
   ]
  },
  {
   "cell_type": "code",
   "execution_count": 22,
   "metadata": {},
   "outputs": [
    {
     "name": "stdout",
     "output_type": "stream",
     "text": [
      "12:10:20\n"
     ]
    }
   ],
   "source": [
    "A.display()"
   ]
  },
  {
   "cell_type": "code",
   "execution_count": 23,
   "metadata": {},
   "outputs": [],
   "source": [
    "A.addition_sec()"
   ]
  },
  {
   "cell_type": "code",
   "execution_count": 24,
   "metadata": {},
   "outputs": [
    {
     "name": "stdout",
     "output_type": "stream",
     "text": [
      "12:10:21\n"
     ]
    }
   ],
   "source": [
    "A.display()"
   ]
  },
  {
   "cell_type": "code",
   "execution_count": 25,
   "metadata": {},
   "outputs": [
    {
     "name": "stdout",
     "output_type": "stream",
     "text": [
      "12:10:59\n",
      "12:11:00\n"
     ]
    }
   ],
   "source": [
    "B=Clock(12,10,59)\n",
    "B.display()\n",
    "B.addition_sec()\n",
    "B.display()"
   ]
  },
  {
   "cell_type": "code",
   "execution_count": 1,
   "metadata": {
    "ExecuteTime": {
     "end_time": "2022-08-25T06:43:28.396397Z",
     "start_time": "2022-08-25T06:43:28.384951Z"
    }
   },
   "outputs": [],
   "source": [
    "class Person:\n",
    "    def __init__(self,ID,fname,lname):\n",
    "        self.id=ID\n",
    "        self.firstName=fname\n",
    "        self.lastName=lname\n"
   ]
  },
  {
   "cell_type": "code",
   "execution_count": 9,
   "metadata": {
    "ExecuteTime": {
     "end_time": "2022-08-25T06:55:13.426566Z",
     "start_time": "2022-08-25T06:55:13.416678Z"
    }
   },
   "outputs": [],
   "source": [
    "class Student(Person):\n",
    "    def __init__(self,ID,fname,lname,parent):\n",
    "        self.id=ID\n",
    "        self.firstName=fname\n",
    "        self.lastName=lname\n",
    "        self.parent=parent\n",
    "        "
   ]
  },
  {
   "cell_type": "code",
   "execution_count": null,
   "metadata": {},
   "outputs": [],
   "source": [
    "#برای اینکه از متغیر های کلاس پرسن استفاده کند و نخوایم دوباره متغیر تعریف کنیم.\n",
    "class Student(Person):\n",
    "    def __init__(self,ID,fname,lname,parent):\n",
    "        super().__init__(ID,fname,lname)\n",
    "        self.parent=parent"
   ]
  },
  {
   "cell_type": "code",
   "execution_count": 3,
   "metadata": {
    "ExecuteTime": {
     "end_time": "2022-08-25T06:50:54.908968Z",
     "start_time": "2022-08-25T06:50:54.891000Z"
    }
   },
   "outputs": [],
   "source": [
    "person1=Person(\"1272076520\",\"sajedeh\",\"esmaeilzadeh\")\n",
    "student1=Student(\"27\",\"ali\",\"esmaeilzadeh\",person1)"
   ]
  },
  {
   "cell_type": "code",
   "execution_count": 6,
   "metadata": {
    "ExecuteTime": {
     "end_time": "2022-08-25T06:52:06.573294Z",
     "start_time": "2022-08-25T06:52:06.566565Z"
    }
   },
   "outputs": [
    {
     "name": "stdout",
     "output_type": "stream",
     "text": [
      "1272076520\n"
     ]
    }
   ],
   "source": [
    "print(student1.parent.id)"
   ]
  },
  {
   "cell_type": "code",
   "execution_count": 11,
   "metadata": {
    "ExecuteTime": {
     "end_time": "2022-08-25T06:57:01.643874Z",
     "start_time": "2022-08-25T06:57:01.633974Z"
    }
   },
   "outputs": [],
   "source": [
    "\n",
    "class Person:\n",
    "    def __init__(self,ID,fname,lname):\n",
    "        self.id=ID\n",
    "        self.firstName=fname\n",
    "        self.lastName=lname\n",
    "\n",
    "class Student():\n",
    "    def __init__(self,ID,fname,lname,parent):\n",
    "        self.id=ID\n",
    "        self.firstName=fname\n",
    "        self.lastName=lname\n",
    "        self.parent=parent\n",
    "\n",
    "\n",
    "\n",
    "class Class1(Person,Student):\n",
    "    def __init__(self):\n",
    "        self.id=ID\n",
    "        self.firstName=\n",
    "        self.lastName=lname\n",
    "        self.parent=parent "
   ]
  },
  {
   "cell_type": "code",
   "execution_count": 13,
   "metadata": {
    "ExecuteTime": {
     "end_time": "2022-08-25T06:59:28.471606Z",
     "start_time": "2022-08-25T06:59:28.456752Z"
    }
   },
   "outputs": [
    {
     "ename": "TypeError",
     "evalue": "__init__() takes 1 positional argument but 3 were given",
     "output_type": "error",
     "traceback": [
      "\u001b[1;31m---------------------------------------------------------------------------\u001b[0m",
      "\u001b[1;31mTypeError\u001b[0m                                 Traceback (most recent call last)",
      "\u001b[1;32m<ipython-input-13-bec5cd41a14e>\u001b[0m in \u001b[0;36m<module>\u001b[1;34m\u001b[0m\n\u001b[0;32m      1\u001b[0m \u001b[0mperson1\u001b[0m\u001b[1;33m=\u001b[0m\u001b[0mPerson\u001b[0m\u001b[1;33m(\u001b[0m\u001b[1;34m\"1272076520\"\u001b[0m\u001b[1;33m,\u001b[0m\u001b[1;34m\"sajedeh\"\u001b[0m\u001b[1;33m,\u001b[0m\u001b[1;34m\"esmaeilzadeh\"\u001b[0m\u001b[1;33m)\u001b[0m\u001b[1;33m\u001b[0m\u001b[1;33m\u001b[0m\u001b[0m\n\u001b[0;32m      2\u001b[0m \u001b[0mstudent1\u001b[0m\u001b[1;33m=\u001b[0m\u001b[0mStudent\u001b[0m\u001b[1;33m(\u001b[0m\u001b[1;34m\"27\"\u001b[0m\u001b[1;33m,\u001b[0m\u001b[1;34m\"ali\"\u001b[0m\u001b[1;33m,\u001b[0m\u001b[1;34m\"esmaeilzadeh\"\u001b[0m\u001b[1;33m,\u001b[0m\u001b[1;34m\"rahmat\"\u001b[0m\u001b[1;33m)\u001b[0m\u001b[1;33m\u001b[0m\u001b[1;33m\u001b[0m\u001b[0m\n\u001b[1;32m----> 3\u001b[1;33m \u001b[0mclass11\u001b[0m\u001b[1;33m=\u001b[0m\u001b[0mClass1\u001b[0m\u001b[1;33m(\u001b[0m\u001b[0mperson1\u001b[0m\u001b[1;33m,\u001b[0m\u001b[0mstudent1\u001b[0m\u001b[1;33m)\u001b[0m\u001b[1;33m\u001b[0m\u001b[1;33m\u001b[0m\u001b[0m\n\u001b[0m\u001b[0;32m      4\u001b[0m \u001b[0mprint\u001b[0m\u001b[1;33m(\u001b[0m\u001b[0mClass11\u001b[0m\u001b[1;33m.\u001b[0m\u001b[0mperson\u001b[0m\u001b[1;33m.\u001b[0m\u001b[0mid\u001b[0m\u001b[1;33m)\u001b[0m\u001b[1;33m\u001b[0m\u001b[1;33m\u001b[0m\u001b[0m\n",
      "\u001b[1;31mTypeError\u001b[0m: __init__() takes 1 positional argument but 3 were given"
     ]
    }
   ],
   "source": [
    "person1=Person(\"1272076520\",\"sajedeh\",\"esmaeilzadeh\")\n",
    "student1=Student(\"27\",\"ali\",\"esmaeilzadeh\",\"rahmat\")\n",
    "class11=Class1(person1,student1)\n",
    "print(Class11.person.id)"
   ]
  },
  {
   "cell_type": "markdown",
   "metadata": {},
   "source": [
    "فیلد مشابه برای کلاس هایی که به هم ارجاع میدهیم تعریف نکنید فقط اولی را در نظر می گیرد."
   ]
  },
  {
   "cell_type": "code",
   "execution_count": 14,
   "metadata": {
    "ExecuteTime": {
     "end_time": "2022-08-25T07:13:47.689124Z",
     "start_time": "2022-08-25T07:13:47.685092Z"
    }
   },
   "outputs": [],
   "source": [
    "class Person:\n",
    "    def __init__(self,ID,fname,lname):\n",
    "        self.firstname=fname\n",
    "        self.lastname=lname\n",
    "        self.ID=ID"
   ]
  },
  {
   "cell_type": "code",
   "execution_count": 15,
   "metadata": {
    "ExecuteTime": {
     "end_time": "2022-08-25T07:16:46.533948Z",
     "start_time": "2022-08-25T07:16:46.527190Z"
    }
   },
   "outputs": [],
   "source": [
    "class Student(Person):\n",
    "    def __init__(self,ID,fname,lname,studentid,average,grade):\n",
    "        super(Student,self).__init__(ID,fname,lname)\n",
    "        self.studentid=studentid\n",
    "        self.average=average\n",
    "        self.grade=grade"
   ]
  },
  {
   "cell_type": "code",
   "execution_count": null,
   "metadata": {},
   "outputs": [],
   "source": [
    "class school:\n",
    "    def __init__(self,name):\n",
    "        self.name=name\n",
    "        self.studentlist=[]\n",
    "        self.list_grade=[\"one\",\"two\",\"three\"]\n",
    "    def addstudent(self,student):\n",
    "        #validation\n",
    "        for i in self.studentlist:\n",
    "            if i.ID==student.ID:\n",
    "                print(\"this id is already recorded in the system\")\n",
    "                return\n",
    "        for i in self.list_grade"
   ]
  },
  {
   "cell_type": "code",
   "execution_count": 2,
   "metadata": {
    "ExecuteTime": {
     "end_time": "2022-09-29T12:40:29.072512Z",
     "start_time": "2022-09-29T12:40:29.055618Z"
    }
   },
   "outputs": [
    {
     "name": "stdout",
     "output_type": "stream",
     "text": [
      "1\n"
     ]
    }
   ],
   "source": []
  },
  {
   "cell_type": "code",
   "execution_count": null,
   "metadata": {},
   "outputs": [],
   "source": []
  }
 ],
 "metadata": {
  "kernelspec": {
   "display_name": "Python 3",
   "language": "python",
   "name": "python3"
  },
  "language_info": {
   "codemirror_mode": {
    "name": "ipython",
    "version": 3
   },
   "file_extension": ".py",
   "mimetype": "text/x-python",
   "name": "python",
   "nbconvert_exporter": "python",
   "pygments_lexer": "ipython3",
   "version": "3.8.5"
  },
  "nbTranslate": {
   "displayLangs": [
    "en"
   ],
   "hotkey": "alt-t",
   "langInMainMenu": true,
   "sourceLang": "en",
   "targetLang": "fr",
   "useGoogleTranslate": true
  },
  "toc": {
   "base_numbering": 1,
   "nav_menu": {},
   "number_sections": true,
   "sideBar": true,
   "skip_h1_title": false,
   "title_cell": "Table of Contents",
   "title_sidebar": "Contents",
   "toc_cell": false,
   "toc_position": {},
   "toc_section_display": true,
   "toc_window_display": false
  },
  "varInspector": {
   "cols": {
    "lenName": 16,
    "lenType": 16,
    "lenVar": 40
   },
   "kernels_config": {
    "python": {
     "delete_cmd_postfix": "",
     "delete_cmd_prefix": "del ",
     "library": "var_list.py",
     "varRefreshCmd": "print(var_dic_list())"
    },
    "r": {
     "delete_cmd_postfix": ") ",
     "delete_cmd_prefix": "rm(",
     "library": "var_list.r",
     "varRefreshCmd": "cat(var_dic_list()) "
    }
   },
   "types_to_exclude": [
    "module",
    "function",
    "builtin_function_or_method",
    "instance",
    "_Feature"
   ],
   "window_display": false
  }
 },
 "nbformat": 4,
 "nbformat_minor": 4
}
